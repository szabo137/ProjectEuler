{
 "cells": [
  {
   "cell_type": "code",
   "execution_count": 1,
   "id": "9f400796",
   "metadata": {},
   "outputs": [],
   "source": [
    "using Primes"
   ]
  },
  {
   "cell_type": "code",
   "execution_count": 2,
   "id": "62da5ca9",
   "metadata": {},
   "outputs": [
    {
     "data": {
      "text/plain": [
       "5 * 7 * 13 * 29"
      ]
     },
     "execution_count": 2,
     "metadata": {},
     "output_type": "execute_result"
    }
   ],
   "source": [
    "factor(13195)"
   ]
  },
  {
   "cell_type": "code",
   "execution_count": 4,
   "id": "111b13d9",
   "metadata": {},
   "outputs": [
    {
     "data": {
      "text/plain": [
       "71 * 839 * 1471 * 6857"
      ]
     },
     "execution_count": 4,
     "metadata": {},
     "output_type": "execute_result"
    }
   ],
   "source": [
    "pr = factor(600851475143)"
   ]
  },
  {
   "cell_type": "code",
   "execution_count": 7,
   "id": "e5633d45",
   "metadata": {},
   "outputs": [
    {
     "data": {
      "text/plain": [
       "6857 => 1"
      ]
     },
     "execution_count": 7,
     "metadata": {},
     "output_type": "execute_result"
    }
   ],
   "source": [
    "maximum(pr)"
   ]
  },
  {
   "cell_type": "code",
   "execution_count": null,
   "id": "7e7194a0",
   "metadata": {},
   "outputs": [],
   "source": []
  }
 ],
 "metadata": {
  "kernelspec": {
   "display_name": "Julia 1.8.1",
   "language": "julia",
   "name": "julia-1.8"
  },
  "language_info": {
   "file_extension": ".jl",
   "mimetype": "application/julia",
   "name": "julia",
   "version": "1.8.1"
  }
 },
 "nbformat": 4,
 "nbformat_minor": 5
}
